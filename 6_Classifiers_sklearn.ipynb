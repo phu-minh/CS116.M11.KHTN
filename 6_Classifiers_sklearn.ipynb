{
  "nbformat": 4,
  "nbformat_minor": 0,
  "metadata": {
    "colab": {
      "name": "19520218_NguyenMinhPhu_CS116_bt6_sklearn.ipynb",
      "provenance": [],
      "include_colab_link": true
    },
    "kernelspec": {
      "name": "python3",
      "display_name": "Python 3"
    },
    "language_info": {
      "name": "python"
    }
  },
  "cells": [
    {
      "cell_type": "markdown",
      "metadata": {
        "id": "view-in-github",
        "colab_type": "text"
      },
      "source": [
        "<a href=\"https://colab.research.google.com/github/phu-minh/CS116.M11.KHTN/blob/main/6_Classifiers_sklearn.ipynb\" target=\"_parent\"><img src=\"https://colab.research.google.com/assets/colab-badge.svg\" alt=\"Open In Colab\"/></a>"
      ]
    },
    {
      "cell_type": "markdown",
      "metadata": {
        "id": "p2sGmICo0_Nt"
      },
      "source": [
        "# Mount drive"
      ]
    },
    {
      "cell_type": "code",
      "metadata": {
        "colab": {
          "base_uri": "https://localhost:8080/"
        },
        "id": "irOBMuYBXRfx",
        "outputId": "7f87c349-84c9-4fca-e728-02f9b6d28ea5"
      },
      "source": [
        "from google.colab import drive\n",
        "drive.mount('/content/drive')\n",
        "%cd \"/content/drive/MyDrive/CS116\""
      ],
      "execution_count": 1,
      "outputs": [
        {
          "output_type": "stream",
          "name": "stdout",
          "text": [
            "Drive already mounted at /content/drive; to attempt to forcibly remount, call drive.mount(\"/content/drive\", force_remount=True).\n",
            "/content/drive/MyDrive/CS116\n"
          ]
        }
      ]
    },
    {
      "cell_type": "code",
      "metadata": {
        "id": "ScIL-KbVXgm9"
      },
      "source": [
        "import pandas as pd\n",
        "import numpy as np\n",
        "from sklearn.model_selection import KFold\n",
        "from sklearn.linear_model import LogisticRegression\n",
        "from sklearn.pipeline import make_pipeline\n",
        "from sklearn.svm import SVC\n",
        "from sklearn.preprocessing import StandardScaler\n",
        "from sklearn.naive_bayes import GaussianNB\n",
        "from sklearn.tree import DecisionTreeClassifier\n",
        "from sklearn.ensemble import RandomForestClassifier\n",
        "from sklearn.neighbors import NearestNeighbors\n",
        "from sklearn.neighbors import KNeighborsClassifier\n",
        "from statistics import mean\n",
        "from sklearn.decomposition import PCA"
      ],
      "execution_count": 2,
      "outputs": []
    },
    {
      "cell_type": "markdown",
      "metadata": {
        "id": "_FAbrdu-1D5z"
      },
      "source": [
        "# Social Network Ads - Classification"
      ]
    },
    {
      "cell_type": "code",
      "metadata": {
        "colab": {
          "base_uri": "https://localhost:8080/",
          "height": 202
        },
        "id": "Q29mQlWKXlK6",
        "outputId": "74e5f830-b33d-463a-a544-44211731d300"
      },
      "source": [
        "df1 = pd.read_csv('Social_Network_Ads.csv')\n",
        "df1.head()"
      ],
      "execution_count": 3,
      "outputs": [
        {
          "output_type": "execute_result",
          "data": {
            "text/html": [
              "<div>\n",
              "<style scoped>\n",
              "    .dataframe tbody tr th:only-of-type {\n",
              "        vertical-align: middle;\n",
              "    }\n",
              "\n",
              "    .dataframe tbody tr th {\n",
              "        vertical-align: top;\n",
              "    }\n",
              "\n",
              "    .dataframe thead th {\n",
              "        text-align: right;\n",
              "    }\n",
              "</style>\n",
              "<table border=\"1\" class=\"dataframe\">\n",
              "  <thead>\n",
              "    <tr style=\"text-align: right;\">\n",
              "      <th></th>\n",
              "      <th>Age</th>\n",
              "      <th>EstimatedSalary</th>\n",
              "      <th>Purchased</th>\n",
              "    </tr>\n",
              "  </thead>\n",
              "  <tbody>\n",
              "    <tr>\n",
              "      <th>0</th>\n",
              "      <td>19</td>\n",
              "      <td>19000</td>\n",
              "      <td>0</td>\n",
              "    </tr>\n",
              "    <tr>\n",
              "      <th>1</th>\n",
              "      <td>35</td>\n",
              "      <td>20000</td>\n",
              "      <td>0</td>\n",
              "    </tr>\n",
              "    <tr>\n",
              "      <th>2</th>\n",
              "      <td>26</td>\n",
              "      <td>43000</td>\n",
              "      <td>0</td>\n",
              "    </tr>\n",
              "    <tr>\n",
              "      <th>3</th>\n",
              "      <td>27</td>\n",
              "      <td>57000</td>\n",
              "      <td>0</td>\n",
              "    </tr>\n",
              "    <tr>\n",
              "      <th>4</th>\n",
              "      <td>19</td>\n",
              "      <td>76000</td>\n",
              "      <td>0</td>\n",
              "    </tr>\n",
              "  </tbody>\n",
              "</table>\n",
              "</div>"
            ],
            "text/plain": [
              "   Age  EstimatedSalary  Purchased\n",
              "0   19            19000          0\n",
              "1   35            20000          0\n",
              "2   26            43000          0\n",
              "3   27            57000          0\n",
              "4   19            76000          0"
            ]
          },
          "metadata": {},
          "execution_count": 3
        }
      ]
    },
    {
      "cell_type": "code",
      "metadata": {
        "id": "cYbuv02FY8so"
      },
      "source": [
        "x1 = np.array(df1.drop('Purchased', axis=1))\n",
        "y1 = np.array(df1['Purchased'])"
      ],
      "execution_count": 4,
      "outputs": []
    },
    {
      "cell_type": "code",
      "metadata": {
        "colab": {
          "base_uri": "https://localhost:8080/"
        },
        "id": "sUgOIzVRoNyA",
        "outputId": "11c0632a-9f0c-4d89-e3e8-eda41e75d276"
      },
      "source": [
        "print(x1[[1,2,3,4,5]])"
      ],
      "execution_count": 5,
      "outputs": [
        {
          "output_type": "stream",
          "name": "stdout",
          "text": [
            "[[   35 20000]\n",
            " [   26 43000]\n",
            " [   27 57000]\n",
            " [   19 76000]\n",
            " [   27 58000]]\n"
          ]
        }
      ]
    },
    {
      "cell_type": "code",
      "metadata": {
        "colab": {
          "base_uri": "https://localhost:8080/"
        },
        "id": "JTy_OfI8oYAf",
        "outputId": "27b8fcb9-c975-4ba3-82a2-6793ebe25d6d"
      },
      "source": [
        "print(y1[:5])"
      ],
      "execution_count": 6,
      "outputs": [
        {
          "output_type": "stream",
          "name": "stdout",
          "text": [
            "[0 0 0 0 0]\n"
          ]
        }
      ]
    },
    {
      "cell_type": "code",
      "metadata": {
        "id": "z__E7pDlZNsQ"
      },
      "source": [
        "def pipeline(x, y, model):\n",
        "    accuracies = []\n",
        "    kf = KFold(n_splits=5)\n",
        "    for train_index, test_index in kf.split(x):\n",
        "        x_train, y_train = x[train_index], y[train_index]\n",
        "        x_test, y_test = x[test_index], y[test_index]\n",
        "        model.fit(x_train, y_train)\n",
        "\n",
        "        score = model.score(x_test, y_test)\n",
        "        accuracies.append(score)\n",
        "\n",
        "    return accuracies\n",
        "\n",
        "def pipeline_pca(x, y, model, pca, test_pca_flag=False):\n",
        "    '''\n",
        "    test_pca_flag: bool\n",
        "        True: apply PCA for BOTH train_set and test_set\n",
        "        False:  fit PCA on train then apply on test immediately\n",
        "    '''\n",
        "    accuracies = []\n",
        "    kf = KFold(n_splits=5)\n",
        "    for train_index, test_index in kf.split(x):\n",
        "        x_train, y_train = x[train_index], y[train_index]\n",
        "        x_test, y_test = x[test_index], y[test_index]\n",
        "\n",
        "        pca.fit(x_train)\n",
        "        transformed_x_train = pca.transform(x_train)\n",
        "\n",
        "        if (test_pca_flag):\n",
        "            pca.fit(x_test)\n",
        "        transformed_x_test = pca.transform(x_test)\n",
        "\n",
        "        model.fit(transformed_x_train, y_train)\n",
        "\n",
        "        score = model.score(transformed_x_test, y_test)\n",
        "        accuracies.append(score)\n",
        "\n",
        "    return accuracies"
      ],
      "execution_count": 7,
      "outputs": []
    },
    {
      "cell_type": "code",
      "metadata": {
        "id": "xZrwnqD6hKaq"
      },
      "source": [
        "results1 = {}\n",
        "results1['logistic_regression'] = {'model': LogisticRegression(solver='liblinear', random_state=0)}\n",
        "results1['svm'] = {'model': make_pipeline(StandardScaler(), SVC(gamma='auto'))}\n",
        "results1['naive_gaussian'] = {'model': GaussianNB()}\n",
        "results1['decision_tree'] = {'model': DecisionTreeClassifier()}\n",
        "results1['random_forest'] = {'model': RandomForestClassifier()}\n",
        "results1['knn'] = {'model': KNeighborsClassifier(n_neighbors=1)} "
      ],
      "execution_count": 8,
      "outputs": []
    },
    {
      "cell_type": "code",
      "metadata": {
        "colab": {
          "base_uri": "https://localhost:8080/"
        },
        "id": "49i6E0V2iCva",
        "outputId": "dabad581-c35b-4cbb-df92-ec52572e17f8"
      },
      "source": [
        "for method in results1:\n",
        "    accuracies = pipeline(x1, y1, results1[method]['model'])\n",
        "    results1[method]['accuracy'] = mean(accuracies)\n",
        "    print(f'Accuracy of {method}: {mean(accuracies)}')"
      ],
      "execution_count": 10,
      "outputs": [
        {
          "output_type": "stream",
          "name": "stdout",
          "text": [
            "Accuracy of logistic_regression: 0.6224999999999999\n",
            "Accuracy of svm: 0.9099999999999999\n",
            "Accuracy of naive_gaussian: 0.855\n",
            "Accuracy of decision_tree: 0.8525\n",
            "Accuracy of random_forest: 0.89\n",
            "Accuracy of knn: 0.7625\n"
          ]
        }
      ]
    },
    {
      "cell_type": "code",
      "metadata": {
        "colab": {
          "base_uri": "https://localhost:8080/",
          "height": 232
        },
        "id": "1szbClxK0lO-",
        "outputId": "548afe66-130b-4f9a-a2ab-fa0fe8e13464"
      },
      "source": [
        "res_df1 = pd.DataFrame(results1).T.drop(columns=['model'])\n",
        "res_df1"
      ],
      "execution_count": 11,
      "outputs": [
        {
          "output_type": "execute_result",
          "data": {
            "text/html": [
              "<div>\n",
              "<style scoped>\n",
              "    .dataframe tbody tr th:only-of-type {\n",
              "        vertical-align: middle;\n",
              "    }\n",
              "\n",
              "    .dataframe tbody tr th {\n",
              "        vertical-align: top;\n",
              "    }\n",
              "\n",
              "    .dataframe thead th {\n",
              "        text-align: right;\n",
              "    }\n",
              "</style>\n",
              "<table border=\"1\" class=\"dataframe\">\n",
              "  <thead>\n",
              "    <tr style=\"text-align: right;\">\n",
              "      <th></th>\n",
              "      <th>accuracy</th>\n",
              "    </tr>\n",
              "  </thead>\n",
              "  <tbody>\n",
              "    <tr>\n",
              "      <th>logistic_regression</th>\n",
              "      <td>0.6225</td>\n",
              "    </tr>\n",
              "    <tr>\n",
              "      <th>svm</th>\n",
              "      <td>0.91</td>\n",
              "    </tr>\n",
              "    <tr>\n",
              "      <th>naive_gaussian</th>\n",
              "      <td>0.855</td>\n",
              "    </tr>\n",
              "    <tr>\n",
              "      <th>decision_tree</th>\n",
              "      <td>0.8525</td>\n",
              "    </tr>\n",
              "    <tr>\n",
              "      <th>random_forest</th>\n",
              "      <td>0.89</td>\n",
              "    </tr>\n",
              "    <tr>\n",
              "      <th>knn</th>\n",
              "      <td>0.7625</td>\n",
              "    </tr>\n",
              "  </tbody>\n",
              "</table>\n",
              "</div>"
            ],
            "text/plain": [
              "                    accuracy\n",
              "logistic_regression   0.6225\n",
              "svm                     0.91\n",
              "naive_gaussian         0.855\n",
              "decision_tree         0.8525\n",
              "random_forest           0.89\n",
              "knn                   0.7625"
            ]
          },
          "metadata": {},
          "execution_count": 11
        }
      ]
    },
    {
      "cell_type": "markdown",
      "metadata": {
        "id": "JfN1hDah1JfU"
      },
      "source": [
        "# Wine - Classification with PCA"
      ]
    },
    {
      "cell_type": "code",
      "metadata": {
        "colab": {
          "base_uri": "https://localhost:8080/",
          "height": 202
        },
        "id": "gxOTF1sRniOJ",
        "outputId": "1a848f84-88ee-4bfc-cc1d-87e0240534d5"
      },
      "source": [
        "# show data structure\n",
        "df2 = pd.read_csv('Wine.csv')\n",
        "df2.head()"
      ],
      "execution_count": 12,
      "outputs": [
        {
          "output_type": "execute_result",
          "data": {
            "text/html": [
              "<div>\n",
              "<style scoped>\n",
              "    .dataframe tbody tr th:only-of-type {\n",
              "        vertical-align: middle;\n",
              "    }\n",
              "\n",
              "    .dataframe tbody tr th {\n",
              "        vertical-align: top;\n",
              "    }\n",
              "\n",
              "    .dataframe thead th {\n",
              "        text-align: right;\n",
              "    }\n",
              "</style>\n",
              "<table border=\"1\" class=\"dataframe\">\n",
              "  <thead>\n",
              "    <tr style=\"text-align: right;\">\n",
              "      <th></th>\n",
              "      <th>Alcohol</th>\n",
              "      <th>Malic_Acid</th>\n",
              "      <th>Ash</th>\n",
              "      <th>Ash_Alcanity</th>\n",
              "      <th>Magnesium</th>\n",
              "      <th>Total_Phenols</th>\n",
              "      <th>Flavanoids</th>\n",
              "      <th>Nonflavanoid_Phenols</th>\n",
              "      <th>Proanthocyanins</th>\n",
              "      <th>Color_Intensity</th>\n",
              "      <th>Hue</th>\n",
              "      <th>OD280</th>\n",
              "      <th>Proline</th>\n",
              "      <th>Customer_Segment</th>\n",
              "    </tr>\n",
              "  </thead>\n",
              "  <tbody>\n",
              "    <tr>\n",
              "      <th>0</th>\n",
              "      <td>14.23</td>\n",
              "      <td>1.71</td>\n",
              "      <td>2.43</td>\n",
              "      <td>15.6</td>\n",
              "      <td>127</td>\n",
              "      <td>2.80</td>\n",
              "      <td>3.06</td>\n",
              "      <td>0.28</td>\n",
              "      <td>2.29</td>\n",
              "      <td>5.64</td>\n",
              "      <td>1.04</td>\n",
              "      <td>3.92</td>\n",
              "      <td>1065</td>\n",
              "      <td>1</td>\n",
              "    </tr>\n",
              "    <tr>\n",
              "      <th>1</th>\n",
              "      <td>13.20</td>\n",
              "      <td>1.78</td>\n",
              "      <td>2.14</td>\n",
              "      <td>11.2</td>\n",
              "      <td>100</td>\n",
              "      <td>2.65</td>\n",
              "      <td>2.76</td>\n",
              "      <td>0.26</td>\n",
              "      <td>1.28</td>\n",
              "      <td>4.38</td>\n",
              "      <td>1.05</td>\n",
              "      <td>3.40</td>\n",
              "      <td>1050</td>\n",
              "      <td>1</td>\n",
              "    </tr>\n",
              "    <tr>\n",
              "      <th>2</th>\n",
              "      <td>13.16</td>\n",
              "      <td>2.36</td>\n",
              "      <td>2.67</td>\n",
              "      <td>18.6</td>\n",
              "      <td>101</td>\n",
              "      <td>2.80</td>\n",
              "      <td>3.24</td>\n",
              "      <td>0.30</td>\n",
              "      <td>2.81</td>\n",
              "      <td>5.68</td>\n",
              "      <td>1.03</td>\n",
              "      <td>3.17</td>\n",
              "      <td>1185</td>\n",
              "      <td>1</td>\n",
              "    </tr>\n",
              "    <tr>\n",
              "      <th>3</th>\n",
              "      <td>14.37</td>\n",
              "      <td>1.95</td>\n",
              "      <td>2.50</td>\n",
              "      <td>16.8</td>\n",
              "      <td>113</td>\n",
              "      <td>3.85</td>\n",
              "      <td>3.49</td>\n",
              "      <td>0.24</td>\n",
              "      <td>2.18</td>\n",
              "      <td>7.80</td>\n",
              "      <td>0.86</td>\n",
              "      <td>3.45</td>\n",
              "      <td>1480</td>\n",
              "      <td>1</td>\n",
              "    </tr>\n",
              "    <tr>\n",
              "      <th>4</th>\n",
              "      <td>13.24</td>\n",
              "      <td>2.59</td>\n",
              "      <td>2.87</td>\n",
              "      <td>21.0</td>\n",
              "      <td>118</td>\n",
              "      <td>2.80</td>\n",
              "      <td>2.69</td>\n",
              "      <td>0.39</td>\n",
              "      <td>1.82</td>\n",
              "      <td>4.32</td>\n",
              "      <td>1.04</td>\n",
              "      <td>2.93</td>\n",
              "      <td>735</td>\n",
              "      <td>1</td>\n",
              "    </tr>\n",
              "  </tbody>\n",
              "</table>\n",
              "</div>"
            ],
            "text/plain": [
              "   Alcohol  Malic_Acid   Ash  ...  OD280  Proline  Customer_Segment\n",
              "0    14.23        1.71  2.43  ...   3.92     1065                 1\n",
              "1    13.20        1.78  2.14  ...   3.40     1050                 1\n",
              "2    13.16        2.36  2.67  ...   3.17     1185                 1\n",
              "3    14.37        1.95  2.50  ...   3.45     1480                 1\n",
              "4    13.24        2.59  2.87  ...   2.93      735                 1\n",
              "\n",
              "[5 rows x 14 columns]"
            ]
          },
          "metadata": {},
          "execution_count": 12
        }
      ]
    },
    {
      "cell_type": "code",
      "metadata": {
        "id": "HBoyOhrYn3pA"
      },
      "source": [
        "x2 = np.array(df2.drop('Customer_Segment', axis=1))\n",
        "y2 = np.array(df2['Customer_Segment'])"
      ],
      "execution_count": 13,
      "outputs": []
    },
    {
      "cell_type": "code",
      "metadata": {
        "colab": {
          "base_uri": "https://localhost:8080/"
        },
        "id": "Eo0yFThZz-Mv",
        "outputId": "9c8972dd-a99b-4655-a2e4-7dd8ce50b9b7"
      },
      "source": [
        "print(x2[:5])"
      ],
      "execution_count": 14,
      "outputs": [
        {
          "output_type": "stream",
          "name": "stdout",
          "text": [
            "[[1.423e+01 1.710e+00 2.430e+00 1.560e+01 1.270e+02 2.800e+00 3.060e+00\n",
            "  2.800e-01 2.290e+00 5.640e+00 1.040e+00 3.920e+00 1.065e+03]\n",
            " [1.320e+01 1.780e+00 2.140e+00 1.120e+01 1.000e+02 2.650e+00 2.760e+00\n",
            "  2.600e-01 1.280e+00 4.380e+00 1.050e+00 3.400e+00 1.050e+03]\n",
            " [1.316e+01 2.360e+00 2.670e+00 1.860e+01 1.010e+02 2.800e+00 3.240e+00\n",
            "  3.000e-01 2.810e+00 5.680e+00 1.030e+00 3.170e+00 1.185e+03]\n",
            " [1.437e+01 1.950e+00 2.500e+00 1.680e+01 1.130e+02 3.850e+00 3.490e+00\n",
            "  2.400e-01 2.180e+00 7.800e+00 8.600e-01 3.450e+00 1.480e+03]\n",
            " [1.324e+01 2.590e+00 2.870e+00 2.100e+01 1.180e+02 2.800e+00 2.690e+00\n",
            "  3.900e-01 1.820e+00 4.320e+00 1.040e+00 2.930e+00 7.350e+02]]\n"
          ]
        }
      ]
    },
    {
      "cell_type": "code",
      "metadata": {
        "colab": {
          "base_uri": "https://localhost:8080/"
        },
        "id": "02Ta7JSw0EnK",
        "outputId": "4e2a684b-718c-4519-e55e-83326244f692"
      },
      "source": [
        "print(y2[:5])"
      ],
      "execution_count": 15,
      "outputs": [
        {
          "output_type": "stream",
          "name": "stdout",
          "text": [
            "[1 1 1 1 1]\n"
          ]
        }
      ]
    },
    {
      "cell_type": "code",
      "metadata": {
        "id": "uW5ggKjwn9fB"
      },
      "source": [
        "results2 = {}\n",
        "results2['logistic_regression'] = {'model': LogisticRegression(solver='liblinear', random_state=0)}\n",
        "results2['svm'] = {'model': make_pipeline(StandardScaler(), SVC(gamma='auto'))}\n",
        "results2['naive_gaussian'] = {'model': GaussianNB()}\n",
        "results2['decision_tree'] = {'model': DecisionTreeClassifier()}\n",
        "results2['random_forest'] = {'model': RandomForestClassifier()}\n",
        "results2['knn'] = {'model': KNeighborsClassifier(n_neighbors=1)} "
      ],
      "execution_count": 16,
      "outputs": []
    },
    {
      "cell_type": "code",
      "metadata": {
        "colab": {
          "base_uri": "https://localhost:8080/"
        },
        "id": "Qfzg3JqEoDah",
        "outputId": "5ebb9987-a833-49d9-aaf3-cc971193575c"
      },
      "source": [
        "for method in results2:\n",
        "    accuracies = pipeline(x2, y2, results2[method]['model'])\n",
        "    results2[method]['normal_accuracy'] = mean(accuracies)\n",
        "    print(f'Accuracy of {method}: {mean(accuracies)}')\n",
        "\n",
        "    accuracies = pipeline_pca(x2, y2, results2[method]['model'], pca=PCA(n_components=3))\n",
        "    results2[method]['pca_accuracy'] = mean(accuracies)\n",
        "    print(f'Accuracy of {method} with pca: {mean(accuracies)}')\n",
        "   \n",
        "    accuracies = pipeline_pca(x2, y2, results2[method]['model'], pca=PCA(n_components=3), test_pca_flag=True)\n",
        "    results2[method]['test_pca_accuracy'] = mean(accuracies)\n",
        "    print(f'Accuracy of {method} with pca and test_pca_flag: {mean(accuracies)}\\n')\n",
        "    "
      ],
      "execution_count": 18,
      "outputs": [
        {
          "output_type": "stream",
          "name": "stdout",
          "text": [
            "Accuracy of logistic_regression: 0.933015873015873\n",
            "Accuracy of logistic_regression with pca: 0.6206349206349207\n",
            "Accuracy of logistic_regression with pca and test_pca_flag: 0.15761904761904763\n",
            "\n",
            "Accuracy of svm: 0.954920634920635\n",
            "Accuracy of svm with pca: 0.6152380952380953\n",
            "Accuracy of svm with pca and test_pca_flag: 0.14063492063492064\n",
            "\n",
            "Accuracy of naive_gaussian: 0.9326984126984127\n",
            "Accuracy of naive_gaussian with pca: 0.6546031746031746\n",
            "Accuracy of naive_gaussian with pca and test_pca_flag: 0.1238095238095238\n",
            "\n",
            "Accuracy of decision_tree: 0.8257142857142857\n",
            "Accuracy of decision_tree with pca: 0.6719047619047619\n",
            "Accuracy of decision_tree with pca and test_pca_flag: 0.2195238095238095\n",
            "\n",
            "Accuracy of random_forest: 0.9665079365079365\n",
            "Accuracy of random_forest with pca: 0.6552380952380953\n",
            "Accuracy of random_forest with pca and test_pca_flag: 0.14047619047619048\n",
            "\n",
            "Accuracy of knn: 0.6333333333333333\n",
            "Accuracy of knn with pca: 0.638888888888889\n",
            "Accuracy of knn with pca and test_pca_flag: 0.18079365079365078\n",
            "\n"
          ]
        }
      ]
    },
    {
      "cell_type": "code",
      "metadata": {
        "colab": {
          "base_uri": "https://localhost:8080/",
          "height": 202
        },
        "id": "7t30B4VjzDP3",
        "outputId": "0ed74499-24c0-4654-bfb9-75ca42743e4e"
      },
      "source": [
        "df_res2 = pd.DataFrame(results2).T\n",
        "df_res2.head()"
      ],
      "execution_count": 19,
      "outputs": [
        {
          "output_type": "execute_result",
          "data": {
            "text/html": [
              "<div>\n",
              "<style scoped>\n",
              "    .dataframe tbody tr th:only-of-type {\n",
              "        vertical-align: middle;\n",
              "    }\n",
              "\n",
              "    .dataframe tbody tr th {\n",
              "        vertical-align: top;\n",
              "    }\n",
              "\n",
              "    .dataframe thead th {\n",
              "        text-align: right;\n",
              "    }\n",
              "</style>\n",
              "<table border=\"1\" class=\"dataframe\">\n",
              "  <thead>\n",
              "    <tr style=\"text-align: right;\">\n",
              "      <th></th>\n",
              "      <th>model</th>\n",
              "      <th>normal_accuracy</th>\n",
              "      <th>pca_accuracy</th>\n",
              "      <th>test_pca_accuracy</th>\n",
              "    </tr>\n",
              "  </thead>\n",
              "  <tbody>\n",
              "    <tr>\n",
              "      <th>logistic_regression</th>\n",
              "      <td>LogisticRegression(C=1.0, class_weight=None, d...</td>\n",
              "      <td>0.933016</td>\n",
              "      <td>0.620635</td>\n",
              "      <td>0.157619</td>\n",
              "    </tr>\n",
              "    <tr>\n",
              "      <th>svm</th>\n",
              "      <td>(StandardScaler(copy=True, with_mean=True, wit...</td>\n",
              "      <td>0.954921</td>\n",
              "      <td>0.615238</td>\n",
              "      <td>0.140635</td>\n",
              "    </tr>\n",
              "    <tr>\n",
              "      <th>naive_gaussian</th>\n",
              "      <td>GaussianNB(priors=None, var_smoothing=1e-09)</td>\n",
              "      <td>0.932698</td>\n",
              "      <td>0.654603</td>\n",
              "      <td>0.12381</td>\n",
              "    </tr>\n",
              "    <tr>\n",
              "      <th>decision_tree</th>\n",
              "      <td>DecisionTreeClassifier(ccp_alpha=0.0, class_we...</td>\n",
              "      <td>0.825714</td>\n",
              "      <td>0.671905</td>\n",
              "      <td>0.219524</td>\n",
              "    </tr>\n",
              "    <tr>\n",
              "      <th>random_forest</th>\n",
              "      <td>(DecisionTreeClassifier(ccp_alpha=0.0, class_w...</td>\n",
              "      <td>0.966508</td>\n",
              "      <td>0.655238</td>\n",
              "      <td>0.140476</td>\n",
              "    </tr>\n",
              "  </tbody>\n",
              "</table>\n",
              "</div>"
            ],
            "text/plain": [
              "                                                                 model  ... test_pca_accuracy\n",
              "logistic_regression  LogisticRegression(C=1.0, class_weight=None, d...  ...          0.157619\n",
              "svm                  (StandardScaler(copy=True, with_mean=True, wit...  ...          0.140635\n",
              "naive_gaussian            GaussianNB(priors=None, var_smoothing=1e-09)  ...           0.12381\n",
              "decision_tree        DecisionTreeClassifier(ccp_alpha=0.0, class_we...  ...          0.219524\n",
              "random_forest        (DecisionTreeClassifier(ccp_alpha=0.0, class_w...  ...          0.140476\n",
              "\n",
              "[5 rows x 4 columns]"
            ]
          },
          "metadata": {},
          "execution_count": 19
        }
      ]
    }
  ]
}